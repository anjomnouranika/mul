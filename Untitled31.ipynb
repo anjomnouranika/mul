{
  "nbformat": 4,
  "nbformat_minor": 0,
  "metadata": {
    "colab": {
      "name": "Untitled31.ipynb",
      "provenance": [],
      "authorship_tag": "ABX9TyNDpkCWW6sD4k4m7bzt1+qN",
      "include_colab_link": true
    },
    "kernelspec": {
      "name": "python3",
      "display_name": "Python 3"
    }
  },
  "cells": [
    {
      "cell_type": "markdown",
      "metadata": {
        "id": "view-in-github",
        "colab_type": "text"
      },
      "source": [
        "<a href=\"https://colab.research.google.com/github/anjomnouranika/mul/blob/master/Untitled31.ipynb\" target=\"_parent\"><img src=\"https://colab.research.google.com/assets/colab-badge.svg\" alt=\"Open In Colab\"/></a>"
      ]
    },
    {
      "cell_type": "code",
      "metadata": {
        "id": "o_V7L46g79_6",
        "colab_type": "code",
        "colab": {
          "base_uri": "https://localhost:8080/",
          "height": 221
        },
        "outputId": "9bf3648d-39ba-4c94-8a9f-370b6e379608"
      },
      "source": [
        "end = int(input(\"\"))\n",
        "number = int(input(\"\"))\n",
        "for a in range(1,end+1):\n",
        "  print(\" %1d * %1d = %1d\"%(a,number,(number * a)))"
      ],
      "execution_count": 12,
      "outputs": [
        {
          "output_type": "stream",
          "text": [
            "10\n",
            "5\n",
            " 1 * 5 = 5\n",
            " 2 * 5 = 10\n",
            " 3 * 5 = 15\n",
            " 4 * 5 = 20\n",
            " 5 * 5 = 25\n",
            " 6 * 5 = 30\n",
            " 7 * 5 = 35\n",
            " 8 * 5 = 40\n",
            " 9 * 5 = 45\n",
            " 10 * 5 = 50\n"
          ],
          "name": "stdout"
        }
      ]
    }
  ]
}